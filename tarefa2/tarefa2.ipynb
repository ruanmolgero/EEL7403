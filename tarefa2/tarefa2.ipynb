{
 "cells": [
  {
   "cell_type": "code",
   "execution_count": 1,
   "metadata": {},
   "outputs": [],
   "source": [
    "import numpy as np\n",
    "from matplotlib import pyplot as plt\n",
    "\n",
    "%matplotlib inline"
   ]
  },
  {
   "cell_type": "code",
   "execution_count": 2,
   "metadata": {},
   "outputs": [],
   "source": [
    "def from_W_to_dBW(x):\n",
    "    return 10*np.log10(x)"
   ]
  },
  {
   "cell_type": "code",
   "execution_count": 3,
   "metadata": {},
   "outputs": [],
   "source": [
    "def from_W_to_dBm(x):\n",
    "    return 10*np.log10(x / (10 ** (-3)))"
   ]
  },
  {
   "cell_type": "code",
   "execution_count": 4,
   "metadata": {},
   "outputs": [],
   "source": [
    "def from_dBW_to_W(x):\n",
    "    return 10 ** (x/10)"
   ]
  },
  {
   "cell_type": "code",
   "execution_count": 5,
   "metadata": {},
   "outputs": [],
   "source": [
    "def from_dBW_to_dBm(x):\n",
    "    return x + 30"
   ]
  },
  {
   "cell_type": "code",
   "execution_count": 6,
   "metadata": {},
   "outputs": [],
   "source": [
    "def from_dBm_to_W(x):\n",
    "    return 10 ** ((x/10) - 3)"
   ]
  },
  {
   "cell_type": "code",
   "execution_count": 7,
   "metadata": {},
   "outputs": [],
   "source": [
    "def from_dBm_to_dBW(x):\n",
    "    return x_30"
   ]
  },
  {
   "cell_type": "code",
   "execution_count": 8,
   "metadata": {},
   "outputs": [],
   "source": [
    "def Pr_to_PL(Pt, Pr):\n",
    "    return 10*np.log10(Pt/Pr)"
   ]
  },
  {
   "cell_type": "code",
   "execution_count": 9,
   "metadata": {},
   "outputs": [],
   "source": [
    "def PL_to_Pr(Pt, PL):\n",
    "    return Pt / (10 ** (PL/10))"
   ]
  },
  {
   "cell_type": "code",
   "execution_count": 10,
   "metadata": {},
   "outputs": [],
   "source": [
    "def lamb(fc):\n",
    "    return 3*10**8 / fc"
   ]
  },
  {
   "cell_type": "code",
   "execution_count": 11,
   "metadata": {},
   "outputs": [],
   "source": [
    "def Pr_espaco_livre(Pt, Gt, Gr, lmb, d, L = 1):\n",
    "    return ( Pt*Gt*Gr*lmb**2 ) / ( (4*np.pi)**2 * d**2 * L )"
   ]
  },
  {
   "cell_type": "code",
   "execution_count": 12,
   "metadata": {},
   "outputs": [],
   "source": [
    "def Pr_log_distancia(Pr_d0, d0, d, n):\n",
    "    return Pr_d0*(d0/d) ** n"
   ]
  },
  {
   "cell_type": "code",
   "execution_count": 13,
   "metadata": {},
   "outputs": [],
   "source": [
    "def a(hre, tipo_cidade):\n",
    "    if(tipo_cidade == 0):\n",
    "        a = (1.1*np.log10(fc) - 0.7)*hre - (1.56*np.log10(fc) - 0.8) \n",
    "    else:\n",
    "        a = 3.2*(np.log10(11.75*hre)) ** 2 - 4.97\n",
    "        \n",
    "    return a"
   ]
  },
  {
   "cell_type": "code",
   "execution_count": 14,
   "metadata": {},
   "outputs": [],
   "source": [
    "def PL_Hata_estendido(fc, hte, hre, d, tipo_cidade = 0):\n",
    "    if(tipo_cidade == 0):\n",
    "        CM = 0\n",
    "    else:\n",
    "        CM = 3\n",
    "        \n",
    "    return 46.3 + 33.9*np.log10(fc) - 13.82*np.log10(hte) - a(hre, tipo_cidade) + (44.9 - 6.55*np.log10(hte))*np.log10(d) + CM"
   ]
  },
  {
   "cell_type": "markdown",
   "metadata": {},
   "source": [
    "# Dados Tarefa 3"
   ]
  },
  {
   "cell_type": "code",
   "execution_count": 15,
   "metadata": {},
   "outputs": [
    {
     "data": {
      "text/plain": [
       "(1000,\n",
       " 1,\n",
       " 1,\n",
       " 1800000000,\n",
       " 0.16666666666666666,\n",
       " array([ 1000,  1500,  2000,  2500,  3000,  3500,  4000,  4500,  5000,\n",
       "         5500,  6000,  6500,  7000,  7500,  8000,  8500,  9000,  9500,\n",
       "        10000, 10500, 11000, 11500, 12000, 12500, 13000, 13500, 14000,\n",
       "        14500, 15000, 15500, 16000, 16500, 17000, 17500, 18000, 18500,\n",
       "        19000, 19500, 20000]),\n",
       " 39)"
      ]
     },
     "execution_count": 15,
     "metadata": {},
     "output_type": "execute_result"
    }
   ],
   "source": [
    "# Tarefa 3\n",
    "Pt = 1*10**3    # [W]\n",
    "Gt = 1          # [dB]\n",
    "Gr = 1          # [dB]\n",
    "fc = 1800*10**6 # [Hz]\n",
    "lmb = lamb(fc)  # [m]\n",
    "d = np.arange(1000, 20500, 500)\n",
    "Pt, Gt, Gr, fc, lmb, d, len(d)"
   ]
  },
  {
   "cell_type": "markdown",
   "metadata": {},
   "source": [
    "## Tarefa 3.1"
   ]
  },
  {
   "cell_type": "code",
   "execution_count": 16,
   "metadata": {},
   "outputs": [
    {
     "data": {
      "text/plain": [
       "(39, array([1.75904833e-07, 7.81799256e-08, 4.39762082e-08, 2.81447732e-08,\n",
       "        1.95449814e-08, 1.43595782e-08, 1.09940520e-08, 8.68665841e-09,\n",
       "        7.03619331e-09, 5.81503579e-09, 4.88624535e-09, 4.16342799e-09,\n",
       "        3.58989455e-09, 3.12719703e-09, 2.74851301e-09, 2.43466896e-09,\n",
       "        2.17166460e-09, 1.94908402e-09, 1.75904833e-09, 1.59550869e-09,\n",
       "        1.45375895e-09, 1.33009325e-09, 1.22156134e-09, 1.12579093e-09,\n",
       "        1.04085700e-09, 9.65184267e-10, 8.97473636e-10, 8.36646053e-10,\n",
       "        7.81799256e-10, 7.32174122e-10, 6.87128253e-10, 6.46115088e-10,\n",
       "        6.08667241e-10, 5.74383127e-10, 5.42916150e-10, 5.13965910e-10,\n",
       "        4.87271005e-10, 4.62603110e-10, 4.39762082e-10]))"
      ]
     },
     "execution_count": 16,
     "metadata": {},
     "output_type": "execute_result"
    }
   ],
   "source": [
    "Pr_tarefa31 = Pr_espaco_livre(Pt, Gt, Gr, lmb, d)\n",
    "len(Pr_tarefa31), Pr_tarefa31"
   ]
  },
  {
   "cell_type": "markdown",
   "metadata": {},
   "source": [
    "## Tarefa 3.2"
   ]
  },
  {
   "cell_type": "code",
   "execution_count": 17,
   "metadata": {},
   "outputs": [
    {
     "data": {
      "text/plain": [
       "1.7590483271239196e-07"
      ]
     },
     "execution_count": 17,
     "metadata": {},
     "output_type": "execute_result"
    }
   ],
   "source": [
    "d0 = 1000\n",
    "Pr_d0 = Pr_espaco_livre(Pt, Gt, Gr, lmb, d0)\n",
    "Pr_d0"
   ]
  },
  {
   "cell_type": "code",
   "execution_count": 18,
   "metadata": {
    "scrolled": true
   },
   "outputs": [
    {
     "data": {
      "text/plain": [
       "(39, array([1.75904833e-07, 5.21199504e-08, 2.19881041e-08, 1.12579093e-08,\n",
       "        6.51499380e-09, 4.10273662e-09, 2.74851301e-09, 1.93036853e-09,\n",
       "        1.40723866e-09, 1.05727923e-09, 8.14374226e-10, 6.40527384e-10,\n",
       "        5.12842078e-10, 4.16959603e-10, 3.43564126e-10, 2.86431643e-10,\n",
       "        2.41296067e-10, 2.05166739e-10, 1.75904833e-10, 1.51953208e-10,\n",
       "        1.32159904e-10, 1.15660283e-10, 1.01796778e-10, 9.00632743e-11,\n",
       "        8.00659229e-11, 7.14951309e-11, 6.41052597e-11, 5.76997278e-11,\n",
       "        5.21199504e-11, 4.72370401e-11, 4.29455158e-11, 3.91584902e-11,\n",
       "        3.58039554e-11, 3.28218930e-11, 3.01620084e-11, 2.77819411e-11,\n",
       "        2.56458424e-11, 2.37232364e-11, 2.19881041e-11]))"
      ]
     },
     "execution_count": 18,
     "metadata": {},
     "output_type": "execute_result"
    }
   ],
   "source": [
    "n = 3\n",
    "Pr_tarefa32_n3 = Pr_log_distancia(Pr_d0, d0, d, n)\n",
    "len(Pr_tarefa32_n3), Pr_tarefa32_n3"
   ]
  },
  {
   "cell_type": "code",
   "execution_count": 19,
   "metadata": {
    "scrolled": true
   },
   "outputs": [
    {
     "data": {
      "text/plain": [
       "(39, array([1.75904833e-07, 3.47466336e-08, 1.09940520e-08, 4.50316372e-09,\n",
       "        2.17166460e-09, 1.17221046e-09, 6.87128253e-10, 4.28970785e-10,\n",
       "        2.81447732e-10, 1.92232588e-10, 1.35729038e-10, 9.85426744e-11,\n",
       "        7.32631540e-11, 5.55946138e-11, 4.29455158e-11, 3.36978403e-11,\n",
       "        2.68106741e-11, 2.15964988e-11, 1.75904833e-11, 1.44717341e-11,\n",
       "        1.20145368e-11, 1.00574159e-11, 8.48306485e-12, 7.20506195e-12,\n",
       "        6.15891715e-12, 5.29593562e-12, 4.57894712e-12, 3.97929157e-12,\n",
       "        3.47466336e-12, 3.04755097e-12, 2.68409474e-12, 2.37324183e-12,\n",
       "        2.10611502e-12, 1.87553674e-12, 1.67566713e-12, 1.50172655e-12,\n",
       "        1.34978118e-12, 1.21657623e-12, 1.09940520e-12]))"
      ]
     },
     "execution_count": 19,
     "metadata": {},
     "output_type": "execute_result"
    }
   ],
   "source": [
    "n = 4\n",
    "Pr_tarefa32_n4 = Pr_log_distancia(Pr_d0, d0, d, n)\n",
    "len(Pr_tarefa32_n4), Pr_tarefa32_n4"
   ]
  },
  {
   "cell_type": "markdown",
   "metadata": {},
   "source": [
    "## Tarefa 3.3"
   ]
  },
  {
   "cell_type": "code",
   "execution_count": 20,
   "metadata": {},
   "outputs": [
    {
     "data": {
      "text/plain": [
       "(1800.0,\n",
       " array([ 1. ,  1.5,  2. ,  2.5,  3. ,  3.5,  4. ,  4.5,  5. ,  5.5,  6. ,\n",
       "         6.5,  7. ,  7.5,  8. ,  8.5,  9. ,  9.5, 10. , 10.5, 11. , 11.5,\n",
       "        12. , 12.5, 13. , 13.5, 14. , 14.5, 15. , 15.5, 16. , 16.5, 17. ,\n",
       "        17.5, 18. , 18.5, 19. , 19.5, 20. ]),\n",
       " 30,\n",
       " 2,\n",
       " 1)"
      ]
     },
     "execution_count": 20,
     "metadata": {},
     "output_type": "execute_result"
    }
   ],
   "source": [
    "fc_tarefa33 = fc / 10**6\n",
    "d_tarefa33 = d / 1000\n",
    "hte = 30\n",
    "hre = 2\n",
    "tipo_cidade = 1\n",
    "fc_tarefa33, d_tarefa33, hte, hre, tipo_cidade"
   ]
  },
  {
   "cell_type": "code",
   "execution_count": 21,
   "metadata": {},
   "outputs": [
    {
     "data": {
      "text/plain": [
       "(1.0454466654540449,\n",
       " array([138.19447552, 144.39726472, 148.7982137 , 152.21185493,\n",
       "        155.00100291, 157.35919391, 159.40195188, 161.20379211,\n",
       "        162.81559312, 164.27364448, 165.60474109, 166.82923127,\n",
       "        167.9629321 , 169.01838232, 170.00569007, 170.93312314,\n",
       "        171.80753029, 172.63464851, 173.4193313 , 174.1657213 ,\n",
       "        174.87738266, 175.55740397, 176.20847927, 176.83297253,\n",
       "        177.43296945, 178.0103195 , 178.56667028, 179.10349591,\n",
       "        179.6221205 , 180.12373792, 180.60942825, 181.08017187,\n",
       "        181.53686132, 181.98031151, 182.41126848, 182.8304169 ,\n",
       "        183.23838669, 183.63575866, 184.02306948]),\n",
       " array([1.51548781e-11, 3.63306801e-12, 1.31879906e-12, 6.00917023e-13,\n",
       "        3.16154749e-13, 1.83687925e-13, 1.14763771e-13, 7.57915500e-14,\n",
       "        5.22926545e-14, 3.73796777e-14, 2.75122362e-14, 2.07528082e-14,\n",
       "        1.59847847e-14, 1.25360804e-14, 9.98690672e-15, 8.06654733e-15,\n",
       "        6.59548855e-15, 5.45174017e-15, 4.55058122e-15, 3.83202091e-15,\n",
       "        3.25283275e-15, 2.78137536e-15, 2.39415395e-15, 2.07349383e-15,\n",
       "        1.80593891e-15, 1.58113172e-15, 1.39101871e-15, 1.22927885e-15,\n",
       "        1.09090756e-15, 9.71910353e-16, 8.69074836e-16, 7.79799250e-16,\n",
       "        7.01962429e-16, 6.33824246e-16, 5.73948800e-16, 5.21144681e-16,\n",
       "        4.74418189e-16, 4.32936433e-16, 3.95998054e-16]))"
      ]
     },
     "execution_count": 21,
     "metadata": {},
     "output_type": "execute_result"
    }
   ],
   "source": [
    "a_tarefa33 = a(hre, tipo_cidade)\n",
    "PL_tarefa33 = PL_Hata_estendido(fc_tarefa33, hte, hre, d_tarefa33, tipo_cidade)\n",
    "Pr_tarefa33 = PL_to_Pr(Pt, PL_tarefa33)\n",
    "a_tarefa33, PL_tarefa33, Pr_tarefa33"
   ]
  },
  {
   "cell_type": "markdown",
   "metadata": {},
   "source": [
    "## Tarefa 3.4"
   ]
  },
  {
   "cell_type": "code",
   "execution_count": 22,
   "metadata": {},
   "outputs": [
    {
     "data": {
      "text/plain": [
       "1.5154878129575687e-11"
      ]
     },
     "execution_count": 22,
     "metadata": {},
     "output_type": "execute_result"
    }
   ],
   "source": [
    "fc_tarefa34 = 1800\n",
    "hte = 30\n",
    "hre = 2\n",
    "d0 = 1\n",
    "tipo_cidade = 1\n",
    "Pr_d0 = PL_to_Pr(Pt, PL_Hata_estendido(fc_tarefa33, hte, hre, d0, tipo_cidade))\n",
    "Pr_d0"
   ]
  },
  {
   "cell_type": "code",
   "execution_count": 23,
   "metadata": {},
   "outputs": [
    {
     "data": {
      "text/plain": [
       "array([1.51548781e-20, 4.49033426e-21, 1.89435977e-21, 9.69912200e-22,\n",
       "       5.61291783e-22, 3.53466545e-22, 2.36794971e-22, 1.66308676e-22,\n",
       "       1.21239025e-22, 9.10886740e-23, 7.01614728e-23, 5.51838985e-23,\n",
       "       4.41833182e-23, 3.59226741e-23, 2.95993713e-23, 2.46771881e-23,\n",
       "       2.07885845e-23, 1.76759039e-23, 1.51548781e-23, 1.30913535e-23,\n",
       "       1.13860842e-23, 9.96457837e-24, 8.77018410e-24, 7.75929760e-24,\n",
       "       6.89798731e-24, 6.15958060e-24, 5.52291477e-24, 4.97105355e-24,\n",
       "       4.49033426e-24, 4.06965275e-24, 3.69992142e-24, 3.37365459e-24,\n",
       "       3.08464851e-24, 2.82773236e-24, 2.59857307e-24, 2.39352111e-24,\n",
       "       2.20948799e-24, 2.04384809e-24, 1.89435977e-24])"
      ]
     },
     "execution_count": 23,
     "metadata": {},
     "output_type": "execute_result"
    }
   ],
   "source": [
    "n = 3\n",
    "Pr_tarefa34_n3 = Pr_log_distancia(Pr_d0, d0, d, n)\n",
    "Pr_tarefa34_n3"
   ]
  },
  {
   "cell_type": "code",
   "execution_count": 24,
   "metadata": {},
   "outputs": [
    {
     "data": {
      "text/plain": [
       "array([1.51548781e-23, 2.99355617e-24, 9.47179883e-25, 3.87964880e-25,\n",
       "       1.87097261e-25, 1.00990442e-25, 5.91987427e-26, 3.69574836e-26,\n",
       "       2.42478050e-26, 1.65615771e-26, 1.16935788e-26, 8.48983054e-27,\n",
       "       6.31190259e-27, 4.78968988e-27, 3.69992142e-27, 2.90319860e-27,\n",
       "       2.30984273e-27, 1.86062147e-27, 1.51548781e-27, 1.24679557e-27,\n",
       "       1.03509857e-27, 8.66485076e-28, 7.30848675e-28, 6.20743808e-28,\n",
       "       5.30614409e-28, 4.56265230e-28, 3.94493912e-28, 3.42831279e-28,\n",
       "       2.99355617e-28, 2.62558242e-28, 2.31245089e-28, 2.04463915e-28,\n",
       "       1.81449912e-28, 1.61584706e-28, 1.44365170e-28, 1.29379520e-28,\n",
       "       1.16288842e-28, 1.04812723e-28, 9.47179883e-29])"
      ]
     },
     "execution_count": 24,
     "metadata": {},
     "output_type": "execute_result"
    }
   ],
   "source": [
    "n = 4\n",
    "Pr_tarefa34_n4 = Pr_log_distancia(Pr_d0, d0, d, n)\n",
    "Pr_tarefa34_n4"
   ]
  },
  {
   "cell_type": "markdown",
   "metadata": {},
   "source": [
    "## Gráficos"
   ]
  },
  {
   "cell_type": "code",
   "execution_count": 35,
   "metadata": {},
   "outputs": [
    {
     "data": {
      "image/png": "[encoded data removed]",
      "text/plain": [
       "<Figure size 864x576 with 1 Axes>"
      ]
     },
     "metadata": {},
     "output_type": "display_data"
    }
   ],
   "source": [
    "fig, ax = plt.subplots(figsize=(12,8))\n",
    "\n",
    "ax.loglog(d, Pr_tarefa31, 'b-', d, Pr_tarefa32_n3, 'r-', d, Pr_tarefa32_n4, 'g-', d, Pr_tarefa33, 'c-', d, Pr_tarefa34_n3, 'y-', d, Pr_tarefa34_n4, 'm-')\n",
    "\n",
    "#ax.loglog(d, Pr_tarefa31, 'b-', label=\"Espaço Livre\")\n",
    "\n",
    "plt.xlabel(\"Distância [m]\")\n",
    "plt.ylabel(\"Potência Recebida [W]\")\n",
    "\n",
    "fig.tight_layout()\n",
    "plt.show()"
   ]
  },
  {
   "cell_type": "code",
   "execution_count": 26,
   "metadata": {},
   "outputs": [
    {
     "data": {
      "image/png": "[encoded data removed]",
      "text/plain": [
       "<Figure size 864x576 with 6 Axes>"
      ]
     },
     "metadata": {},
     "output_type": "display_data"
    }
   ],
   "source": [
    "fig, ax = plt.subplots(2,3, figsize=(12,8))\n",
    "\n",
    "ax[0][0].loglog(d, Pr_tarefa31, 'b-')\n",
    "ax[0][0].set_title(\"Espaço Livre\")\n",
    "\n",
    "ax[0][1].loglog(d, Pr_tarefa32_n3, 'r-')\n",
    "ax[0][1].set_title(\"Log-distância, n=3 \\nPr(d0= 1km) do espaço livre\")\n",
    "\n",
    "ax[0][2].loglog(d, Pr_tarefa32_n4, 'g-')\n",
    "ax[0][2].set_title(\"Log-distância, n=4 \\nPr(d0= 1km) do espaço livre\")\n",
    "\n",
    "ax[1][0].loglog(d, Pr_tarefa33, 'c-')\n",
    "ax[1][0].set_title(\"Hata Estendido\")\n",
    "\n",
    "ax[1][1].loglog(d, Pr_tarefa34_n3, 'y-')\n",
    "ax[1][1].set_title(\"Log-distância, n=3 \\nPr(d0= 1km) do Hata estendido\")\n",
    "\n",
    "ax[1][2].loglog(d, Pr_tarefa34_n4, 'm-')\n",
    "ax[1][2].set_title(\"Log-distância, n=4 \\nPr(d0= 1km) do Hata estendido\")\n",
    "\n",
    "\n",
    "fig.tight_layout()\n",
    "plt.show()"
   ]
  },
  {
   "cell_type": "code",
   "execution_count": null,
   "metadata": {},
   "outputs": [],
   "source": []
  }
 ],
 "metadata": {
  "kernelspec": {
   "display_name": "Python 3",
   "language": "python",
   "name": "python3"
  },
  "language_info": {
   "codemirror_mode": {
    "name": "ipython",
    "version": 3
   },
   "file_extension": ".py",
   "mimetype": "text/x-python",
   "name": "python",
   "nbconvert_exporter": "python",
   "pygments_lexer": "ipython3",
   "version": "3.6.4"
  }
 },
 "nbformat": 4,
 "nbformat_minor": 2
}
