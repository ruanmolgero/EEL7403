{
 "cells": [
  {
   "cell_type": "code",
   "execution_count": 1,
   "metadata": {},
   "outputs": [],
   "source": [
    "import numpy as np\n",
    "from matplotlib import pyplot as plt\n",
    "\n",
    "from IPython.display import display, Math, display_latex\n",
    "\n",
    "\n",
    "from math import gamma\n",
    "\n",
    "%matplotlib inline"
   ]
  },
  {
   "cell_type": "code",
   "execution_count": 2,
   "metadata": {},
   "outputs": [],
   "source": [
    "def Pr_espaco_livre(Pt, Gt, Gr, lmb, d, L = 1):\n",
    "    return ( Pt*Gt*Gr*lmb**2 ) / ( (4*np.pi)**2 * d**2 * L )"
   ]
  },
  {
   "cell_type": "code",
   "execution_count": 3,
   "metadata": {},
   "outputs": [],
   "source": [
    "def Pr_lod_dist(Pr_d0, d0, d, n):\n",
    "    return Pr_d0*((d0/d)**n)"
   ]
  },
  {
   "cell_type": "code",
   "execution_count": 4,
   "metadata": {},
   "outputs": [],
   "source": [
    "def W_to_dBW(x):\n",
    "    return 10*np.log10(x)"
   ]
  },
  {
   "cell_type": "code",
   "execution_count": 5,
   "metadata": {},
   "outputs": [],
   "source": [
    "def W_to_dBm(x):\n",
    "    return 10*np.log10(x / (10 ** (-3)))"
   ]
  },
  {
   "cell_type": "code",
   "execution_count": 6,
   "metadata": {},
   "outputs": [],
   "source": [
    "def dBW_to_dBm(x):\n",
    "    return x + 30"
   ]
  },
  {
   "cell_type": "code",
   "execution_count": 7,
   "metadata": {},
   "outputs": [],
   "source": [
    "def dBm_to_W(x):\n",
    "    return 10 ** ((x/10) - 3)"
   ]
  },
  {
   "cell_type": "code",
   "execution_count": 8,
   "metadata": {},
   "outputs": [],
   "source": [
    "def dBm_to_dBW(x):\n",
    "    return x - 30"
   ]
  },
  {
   "cell_type": "code",
   "execution_count": 9,
   "metadata": {},
   "outputs": [],
   "source": [
    "def Pr_to_PL(Pt, Pr):\n",
    "    return 10*np.log10(Pt/Pr)"
   ]
  },
  {
   "cell_type": "code",
   "execution_count": 10,
   "metadata": {},
   "outputs": [
    {
     "data": {
      "text/plain": [
       "array([ -95, -102, -117, -135, -158])"
      ]
     },
     "execution_count": 10,
     "metadata": {},
     "output_type": "execute_result"
    }
   ],
   "source": [
    "d0 = 1\n",
    "Pt_W = 2e-3\n",
    "fc= 1.8e9\n",
    "lmb = 3e8/fc\n",
    "d = np.array([10, 20, 50, 100, 300])\n",
    "Pr_medido_dBm = np.array([-65, -72, -87, -105, -128])\n",
    "Pr_medido_dBW = dBm_to_dBW(Pr_medido_dBm)\n",
    "Pr_medido_dBW"
   ]
  },
  {
   "cell_type": "code",
   "execution_count": 11,
   "metadata": {},
   "outputs": [
    {
     "data": {
      "text/plain": [
       "3.5180966542478393e-07"
      ]
     },
     "execution_count": 11,
     "metadata": {},
     "output_type": "execute_result"
    }
   ],
   "source": [
    "Pr_d0 = Pr_espaco_livre(Pt_W, 1, 1, lmb, d0)\n",
    "Pr_d0"
   ]
  },
  {
   "cell_type": "code",
   "execution_count": 12,
   "metadata": {},
   "outputs": [
    {
     "data": {
      "text/plain": [
       "-64.53692233147498"
      ]
     },
     "execution_count": 12,
     "metadata": {},
     "output_type": "execute_result"
    }
   ],
   "source": [
    "Pr_d0_dBW = W_to_dBW(Pr_d0)\n",
    "Pr_d0_dBW"
   ]
  },
  {
   "cell_type": "code",
   "execution_count": 13,
   "metadata": {},
   "outputs": [],
   "source": [
    "def n_coef(d):\n",
    "    return -10*np.log10(1/d)"
   ]
  },
  {
   "cell_type": "code",
   "execution_count": 14,
   "metadata": {},
   "outputs": [
    {
     "data": {
      "text/plain": [
       "(array([-30.46307767, -37.46307767, -52.46307767, -70.46307767,\n",
       "        -93.46307767]),\n",
       " array([10.        , 13.01029996, 16.98970004, 20.        , 24.77121255]))"
      ]
     },
     "execution_count": 14,
     "metadata": {},
     "output_type": "execute_result"
    }
   ],
   "source": [
    "A_coef = Pr_medido_dBW - Pr_d0_dBW\n",
    "B_coef = n_coef(d)\n",
    "A_coef, B_coef"
   ]
  },
  {
   "cell_type": "code",
   "execution_count": 15,
   "metadata": {
    "scrolled": true
   },
   "outputs": [
    {
     "data": {
      "text/plain": [
       "(1571.5307835834865, -10815.647846008167, 18784.248009683542)"
      ]
     },
     "execution_count": 15,
     "metadata": {},
     "output_type": "execute_result"
    }
   ],
   "source": [
    "a = np.sum(B_coef**2)\n",
    "b = np.sum(2*A_coef*B_coef)\n",
    "c = np.sum(A_coef**2)\n",
    "a, b, c"
   ]
  },
  {
   "cell_type": "code",
   "execution_count": 16,
   "metadata": {},
   "outputs": [
    {
     "data": {
      "text/plain": [
       "3.4411186719950093"
      ]
     },
     "execution_count": 16,
     "metadata": {},
     "output_type": "execute_result"
    }
   ],
   "source": [
    "n = -b/(2*a)\n",
    "n"
   ]
  },
  {
   "cell_type": "code",
   "execution_count": 17,
   "metadata": {},
   "outputs": [
    {
     "data": {
      "text/plain": [
       "5.920880565809282"
      ]
     },
     "execution_count": 17,
     "metadata": {},
     "output_type": "execute_result"
    }
   ],
   "source": [
    "np.sqrt((a*n**2 + b*n + c)/5)"
   ]
  },
  {
   "cell_type": "code",
   "execution_count": 18,
   "metadata": {},
   "outputs": [
    {
     "data": {
      "text/plain": [
       "-26.989700043360187"
      ]
     },
     "execution_count": 18,
     "metadata": {},
     "output_type": "execute_result"
    }
   ],
   "source": [
    "Pt_dBW = W_to_dBW(Pt_W)\n",
    "Pt_dBW"
   ]
  },
  {
   "cell_type": "code",
   "execution_count": 19,
   "metadata": {},
   "outputs": [],
   "source": [
    "#%%latex\n",
    "#$$ P_r(d) = Pt_dBW $$"
   ]
  },
  {
   "cell_type": "code",
   "execution_count": 20,
   "metadata": {
    "scrolled": true
   },
   "outputs": [],
   "source": [
    "#display(Math('Pr_r(d)\\space= \\space{} \\space -{}\\space log(d) \\space [dBW]'.format(Pr_d0_dBW, n*10)))"
   ]
  },
  {
   "cell_type": "code",
   "execution_count": 21,
   "metadata": {},
   "outputs": [
    {
     "data": {
      "text/plain": [
       "-64.53692233147498"
      ]
     },
     "execution_count": 21,
     "metadata": {},
     "output_type": "execute_result"
    }
   ],
   "source": [
    "Pr_d0_dBW"
   ]
  },
  {
   "cell_type": "code",
   "execution_count": 22,
   "metadata": {},
   "outputs": [],
   "source": [
    "def modelo(d):\n",
    "    return Pr_d0_dBW - n*10*np.log10(d)"
   ]
  },
  {
   "cell_type": "code",
   "execution_count": 23,
   "metadata": {},
   "outputs": [
    {
     "data": {
      "text/plain": [
       "array([ -98.94810905, -109.30690844, -123.00049638, -133.35929577,\n",
       "       -149.77760436])"
      ]
     },
     "execution_count": 23,
     "metadata": {},
     "output_type": "execute_result"
    }
   ],
   "source": [
    "model_results_dBW = modelo(d)\n",
    "model_results_dBW"
   ]
  },
  {
   "cell_type": "code",
   "execution_count": 24,
   "metadata": {},
   "outputs": [
    {
     "data": {
      "text/plain": [
       "array([ -68.94810905,  -79.30690844,  -93.00049638, -103.35929577,\n",
       "       -119.77760436])"
      ]
     },
     "execution_count": 24,
     "metadata": {},
     "output_type": "execute_result"
    }
   ],
   "source": [
    "dBW_to_dBm(model_results_dBW)"
   ]
  },
  {
   "cell_type": "code",
   "execution_count": 25,
   "metadata": {},
   "outputs": [
    {
     "data": {
      "text/plain": [
       "5.733316255360231"
      ]
     },
     "execution_count": 25,
     "metadata": {},
     "output_type": "execute_result"
    }
   ],
   "source": [
    "shadowing_deviation = np.std((Pr_medido_dBW-model_results_dBW))\n",
    "shadowing_deviation"
   ]
  },
  {
   "cell_type": "code",
   "execution_count": 26,
   "metadata": {},
   "outputs": [
    {
     "data": {
      "text/plain": [
       "5.920880565809275"
      ]
     },
     "execution_count": 26,
     "metadata": {},
     "output_type": "execute_result"
    }
   ],
   "source": [
    "np.sqrt(np.sum((Pr_medido_dBW-model_results_dBW)**2)/5)"
   ]
  },
  {
   "cell_type": "code",
   "execution_count": 27,
   "metadata": {},
   "outputs": [],
   "source": [
    "#def modelo_atualizado(d):\n",
    "#    return modelo(d) + shadowing_deviation"
   ]
  },
  {
   "cell_type": "code",
   "execution_count": 28,
   "metadata": {},
   "outputs": [
    {
     "data": {
      "text/latex": [
       "$$P_r(d = 200m):$$"
      ],
      "text/plain": [
       "<IPython.core.display.Math object>"
      ]
     },
     "metadata": {},
     "output_type": "display_data"
    },
    {
     "data": {
      "text/plain": [
       "-113.7180951604742"
      ]
     },
     "execution_count": 28,
     "metadata": {},
     "output_type": "execute_result"
    }
   ],
   "source": [
    "display(Math('P_r(d = 200m):'))\n",
    "Pr_200m = modelo(200)\n",
    "dBW_to_dBm(Pr_200m)"
   ]
  },
  {
   "cell_type": "code",
   "execution_count": 29,
   "metadata": {},
   "outputs": [
    {
     "data": {
      "text/plain": [
       "array([  10,   60,  110,  160,  210,  260,  310,  360,  410,  460,  510,\n",
       "        560,  610,  660,  710,  760,  810,  860,  910,  960, 1010])"
      ]
     },
     "execution_count": 29,
     "metadata": {},
     "output_type": "execute_result"
    }
   ],
   "source": [
    "d = np.arange(10, 1011, 50)\n",
    "d"
   ]
  },
  {
   "cell_type": "code",
   "execution_count": 30,
   "metadata": {},
   "outputs": [
    {
     "data": {
      "text/plain": [
       "array([ -68.94810905,  -95.72521702, -104.78366719, -110.38330661,\n",
       "       -114.44724409, -117.63902113, -120.26763476, -122.502325  ,\n",
       "       -124.44591548, -126.16557927, -127.70762522, -129.10533367,\n",
       "       -130.38342736, -131.56077516, -132.65210576, -133.66913676,\n",
       "       -134.62134339, -135.51649647, -136.36104819, -137.16041458,\n",
       "       -137.91918609])"
      ]
     },
     "execution_count": 30,
     "metadata": {},
     "output_type": "execute_result"
    }
   ],
   "source": [
    "modelo_1km = modelo(d)\n",
    "dBW_to_dBm(modelo_1km)"
   ]
  },
  {
   "cell_type": "code",
   "execution_count": 31,
   "metadata": {
    "scrolled": true
   },
   "outputs": [
    {
     "data": {
      "image/png": "[encoded data removed]",
      "text/plain": [
       "<Figure size 576x432 with 1 Axes>"
      ]
     },
     "metadata": {},
     "output_type": "display_data"
    }
   ],
   "source": [
    "fig, ax = plt.subplots(figsize=(8,6))\n",
    "\n",
    "plt.title(\"Gráfico: \\n Potência Recebida x Distância \\npara modelo calculado\")\n",
    "plt.xlabel(\"Distância [m]\")\n",
    "plt.ylabel(\"Potência Recebida [dBm]\")\n",
    "\n",
    "ax.semilogx(d, dBW_to_dBm(modelo_1km), 'b-')\n",
    "\n",
    "fig.tight_layout()\n",
    "plt.grid(which = 'both', linestyle=':', linewidth=1.5)\n",
    "\n",
    "#plt.show()\n",
    "\n",
    "plt.savefig('graph.png', bbox_inches='tight')"
   ]
  },
  {
   "cell_type": "code",
   "execution_count": 32,
   "metadata": {},
   "outputs": [],
   "source": [
    "def function(n):\n",
    "    return a*n**2 + b*n + c"
   ]
  },
  {
   "cell_type": "code",
   "execution_count": 33,
   "metadata": {},
   "outputs": [
    {
     "data": {
      "text/plain": [
       "array([1.5       , 1.54545455, 1.59090909, 1.63636364, 1.68181818,\n",
       "       1.72727273, 1.77272727, 1.81818182, 1.86363636, 1.90909091,\n",
       "       1.95454545, 2.        , 2.04545455, 2.09090909, 2.13636364,\n",
       "       2.18181818, 2.22727273, 2.27272727, 2.31818182, 2.36363636,\n",
       "       2.40909091, 2.45454545, 2.5       , 2.54545455, 2.59090909,\n",
       "       2.63636364, 2.68181818, 2.72727273, 2.77272727, 2.81818182,\n",
       "       2.86363636, 2.90909091, 2.95454545, 3.        , 3.04545455,\n",
       "       3.09090909, 3.13636364, 3.18181818, 3.22727273, 3.27272727,\n",
       "       3.31818182, 3.36363636, 3.40909091, 3.45454545, 3.5       ,\n",
       "       3.54545455, 3.59090909, 3.63636364, 3.68181818, 3.72727273,\n",
       "       3.77272727, 3.81818182, 3.86363636, 3.90909091, 3.95454545,\n",
       "       4.        , 4.04545455, 4.09090909, 4.13636364, 4.18181818,\n",
       "       4.22727273, 4.27272727, 4.31818182, 4.36363636, 4.40909091,\n",
       "       4.45454545, 4.5       , 4.54545455, 4.59090909, 4.63636364,\n",
       "       4.68181818, 4.72727273, 4.77272727, 4.81818182, 4.86363636,\n",
       "       4.90909091, 4.95454545, 5.        , 5.04545455, 5.09090909,\n",
       "       5.13636364, 5.18181818, 5.22727273, 5.27272727, 5.31818182,\n",
       "       5.36363636, 5.40909091, 5.45454545, 5.5       , 5.54545455,\n",
       "       5.59090909, 5.63636364, 5.68181818, 5.72727273, 5.77272727,\n",
       "       5.81818182, 5.86363636, 5.90909091, 5.95454545, 6.        ])"
      ]
     },
     "execution_count": 33,
     "metadata": {},
     "output_type": "execute_result"
    }
   ],
   "source": [
    "n = np.linspace(1.5, 6, 100)\n",
    "n"
   ]
  },
  {
   "cell_type": "code",
   "execution_count": 34,
   "metadata": {},
   "outputs": [
    {
     "data": {
      "image/png": "[encoded data removed]",
      "text/plain": [
       "<Figure size 576x432 with 1 Axes>"
      ]
     },
     "metadata": {},
     "output_type": "display_data"
    }
   ],
   "source": [
    "fig, ax = plt.subplots(figsize=(8,6))\n",
    "\n",
    "plt.xlabel(\"n\")\n",
    "plt.ylabel(\"F(n)\")\n",
    "\n",
    "ax.semilogy(n, function(n), 'b-')\n",
    "\n",
    "fig.tight_layout()\n",
    "\n",
    "plt.grid(which = 'both', linestyle=':', linewidth=1.5)\n",
    "\n",
    "#plt.show()\n",
    "\n",
    "plt.savefig('Fn_n.png', bbox_inches='tight')"
   ]
  }
 ],
 "metadata": {
  "kernelspec": {
   "display_name": "Python 3",
   "language": "python",
   "name": "python3"
  },
  "language_info": {
   "codemirror_mode": {
    "name": "ipython",
    "version": 3
   },
   "file_extension": ".py",
   "mimetype": "text/x-python",
   "name": "python",
   "nbconvert_exporter": "python",
   "pygments_lexer": "ipython3",
   "version": "3.6.4"
  }
 },
 "nbformat": 4,
 "nbformat_minor": 2
}
